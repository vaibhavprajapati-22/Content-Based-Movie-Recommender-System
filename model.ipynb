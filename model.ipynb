{
 "cells": [
  {
   "cell_type": "code",
   "execution_count": 1,
   "id": "27047e47-beb2-4008-be72-c0fb9b40054b",
   "metadata": {},
   "outputs": [],
   "source": [
    "# Importing important libraries\n",
    "import pandas as pd\n",
    "from sklearn.feature_extraction.text import CountVectorizer\n",
    "from sklearn.metrics.pairwise import cosine_similarity\n",
    "import pickle"
   ]
  },
  {
   "cell_type": "code",
   "execution_count": 2,
   "id": "a3c10589-1810-4e94-b7be-741b4617ba23",
   "metadata": {},
   "outputs": [
    {
     "data": {
      "text/html": [
       "<div>\n",
       "<style scoped>\n",
       "    .dataframe tbody tr th:only-of-type {\n",
       "        vertical-align: middle;\n",
       "    }\n",
       "\n",
       "    .dataframe tbody tr th {\n",
       "        vertical-align: top;\n",
       "    }\n",
       "\n",
       "    .dataframe thead th {\n",
       "        text-align: right;\n",
       "    }\n",
       "</style>\n",
       "<table border=\"1\" class=\"dataframe\">\n",
       "  <thead>\n",
       "    <tr style=\"text-align: right;\">\n",
       "      <th></th>\n",
       "      <th>ID</th>\n",
       "      <th>Title</th>\n",
       "      <th>Genres</th>\n",
       "      <th>Info</th>\n",
       "    </tr>\n",
       "  </thead>\n",
       "  <tbody>\n",
       "    <tr>\n",
       "      <th>0</th>\n",
       "      <td>1</td>\n",
       "      <td>Toy Story (1995)</td>\n",
       "      <td>Adventure, Animation, Children, Comedy, Fantasy</td>\n",
       "      <td>Toy Story (1995) Adventure, Animation, Childre...</td>\n",
       "    </tr>\n",
       "    <tr>\n",
       "      <th>1</th>\n",
       "      <td>2</td>\n",
       "      <td>Jumanji (1995)</td>\n",
       "      <td>Adventure, Children, Fantasy</td>\n",
       "      <td>Jumanji (1995) Adventure, Children, Fantasy</td>\n",
       "    </tr>\n",
       "    <tr>\n",
       "      <th>2</th>\n",
       "      <td>3</td>\n",
       "      <td>Grumpier Old Men (1995)</td>\n",
       "      <td>Comedy, Romance</td>\n",
       "      <td>Grumpier Old Men (1995) Comedy, Romance</td>\n",
       "    </tr>\n",
       "    <tr>\n",
       "      <th>3</th>\n",
       "      <td>4</td>\n",
       "      <td>Waiting to Exhale (1995)</td>\n",
       "      <td>Comedy, Drama, Romance</td>\n",
       "      <td>Waiting to Exhale (1995) Comedy, Drama, Romance</td>\n",
       "    </tr>\n",
       "    <tr>\n",
       "      <th>4</th>\n",
       "      <td>5</td>\n",
       "      <td>Father of the Bride Part II (1995)</td>\n",
       "      <td>Comedy</td>\n",
       "      <td>Father of the Bride Part II (1995) Comedy</td>\n",
       "    </tr>\n",
       "    <tr>\n",
       "      <th>...</th>\n",
       "      <td>...</td>\n",
       "      <td>...</td>\n",
       "      <td>...</td>\n",
       "      <td>...</td>\n",
       "    </tr>\n",
       "    <tr>\n",
       "      <th>10676</th>\n",
       "      <td>65088</td>\n",
       "      <td>Bedtime Stories (2008)</td>\n",
       "      <td>Adventure, Children, Comedy</td>\n",
       "      <td>Bedtime Stories (2008) Adventure, Children, Co...</td>\n",
       "    </tr>\n",
       "    <tr>\n",
       "      <th>10677</th>\n",
       "      <td>65091</td>\n",
       "      <td>Manhattan Melodrama (1934)</td>\n",
       "      <td>Crime, Drama, Romance</td>\n",
       "      <td>Manhattan Melodrama (1934) Crime, Drama, Romance</td>\n",
       "    </tr>\n",
       "    <tr>\n",
       "      <th>10678</th>\n",
       "      <td>65126</td>\n",
       "      <td>Choke (2008)</td>\n",
       "      <td>Comedy, Drama</td>\n",
       "      <td>Choke (2008) Comedy, Drama</td>\n",
       "    </tr>\n",
       "    <tr>\n",
       "      <th>10679</th>\n",
       "      <td>65130</td>\n",
       "      <td>Revolutionary Road (2008)</td>\n",
       "      <td>Drama, Romance</td>\n",
       "      <td>Revolutionary Road (2008) Drama, Romance</td>\n",
       "    </tr>\n",
       "    <tr>\n",
       "      <th>10680</th>\n",
       "      <td>65133</td>\n",
       "      <td>Blackadder Back &amp; Forth (1999)</td>\n",
       "      <td>Comedy</td>\n",
       "      <td>Blackadder Back &amp; Forth (1999) Comedy</td>\n",
       "    </tr>\n",
       "  </tbody>\n",
       "</table>\n",
       "<p>10681 rows × 4 columns</p>\n",
       "</div>"
      ],
      "text/plain": [
       "          ID                               Title  \\\n",
       "0          1                    Toy Story (1995)   \n",
       "1          2                      Jumanji (1995)   \n",
       "2          3             Grumpier Old Men (1995)   \n",
       "3          4            Waiting to Exhale (1995)   \n",
       "4          5  Father of the Bride Part II (1995)   \n",
       "...      ...                                 ...   \n",
       "10676  65088              Bedtime Stories (2008)   \n",
       "10677  65091          Manhattan Melodrama (1934)   \n",
       "10678  65126                        Choke (2008)   \n",
       "10679  65130           Revolutionary Road (2008)   \n",
       "10680  65133      Blackadder Back & Forth (1999)   \n",
       "\n",
       "                                                Genres  \\\n",
       "0      Adventure, Animation, Children, Comedy, Fantasy   \n",
       "1                         Adventure, Children, Fantasy   \n",
       "2                                      Comedy, Romance   \n",
       "3                               Comedy, Drama, Romance   \n",
       "4                                               Comedy   \n",
       "...                                                ...   \n",
       "10676                      Adventure, Children, Comedy   \n",
       "10677                            Crime, Drama, Romance   \n",
       "10678                                    Comedy, Drama   \n",
       "10679                                   Drama, Romance   \n",
       "10680                                           Comedy   \n",
       "\n",
       "                                                    Info  \n",
       "0      Toy Story (1995) Adventure, Animation, Childre...  \n",
       "1            Jumanji (1995) Adventure, Children, Fantasy  \n",
       "2                Grumpier Old Men (1995) Comedy, Romance  \n",
       "3        Waiting to Exhale (1995) Comedy, Drama, Romance  \n",
       "4              Father of the Bride Part II (1995) Comedy  \n",
       "...                                                  ...  \n",
       "10676  Bedtime Stories (2008) Adventure, Children, Co...  \n",
       "10677   Manhattan Melodrama (1934) Crime, Drama, Romance  \n",
       "10678                         Choke (2008) Comedy, Drama  \n",
       "10679           Revolutionary Road (2008) Drama, Romance  \n",
       "10680              Blackadder Back & Forth (1999) Comedy  \n",
       "\n",
       "[10681 rows x 4 columns]"
      ]
     },
     "execution_count": 2,
     "metadata": {},
     "output_type": "execute_result"
    }
   ],
   "source": [
    "# Loading the dataset\n",
    "columns_movies = ['ID', 'Title', 'Genres']\n",
    "movies = pd.read_csv('movies.dat', sep='::', engine='python', header=None, names=columns_movies)\n",
    "movies['Genres'] = movies['Genres'].str.replace('|', ', ')\n",
    "movies['Info'] = movies['Title'] +\" \" + movies['Genres']\n",
    "movies"
   ]
  },
  {
   "cell_type": "code",
   "execution_count": 3,
   "id": "e998d9b9-7a92-45d3-ad89-10eaf52201e7",
   "metadata": {},
   "outputs": [],
   "source": [
    "cv = CountVectorizer()\n",
    "# Fit and transform the 'Info' column of the 'movies' DataFrame, creating a count matrix\n",
    "count_matrix = cv.fit_transform(movies['Info'])\n",
    "# Calculating cosine similarity between movie descriptions based on the count matrix\n",
    "similarity = cosine_similarity(count_matrix)"
   ]
  },
  {
   "cell_type": "code",
   "execution_count": 4,
   "id": "4ea79da8-b26d-4679-ac5d-21800b9b1c50",
   "metadata": {},
   "outputs": [
    {
     "data": {
      "text/plain": [
       "(10681, 10681)"
      ]
     },
     "execution_count": 4,
     "metadata": {},
     "output_type": "execute_result"
    }
   ],
   "source": [
    "similarity.shape"
   ]
  },
  {
   "cell_type": "code",
   "execution_count": 5,
   "id": "d8ac2182-447f-4070-b0da-a63556363d32",
   "metadata": {},
   "outputs": [],
   "source": [
    "# A function that return the top 5 movies similar to entered movie and their similarity scores\n",
    "def get_movie_recommendations(movie_title):\n",
    "    movie_index = movies.index[movies['Title'] == movie_title].tolist()[0]\n",
    "    movie_similarity_scores = list(enumerate(similarity[movie_index]))\n",
    "    movie_similarity_scores = sorted(movie_similarity_scores, key=lambda x: x[1], reverse=True)\n",
    "    top_n = 5\n",
    "    similar_movies = [(movies['Title'][i], score) for i, score in movie_similarity_scores[1:top_n+1]]\n",
    "    return similar_movies"
   ]
  },
  {
   "cell_type": "code",
   "execution_count": 6,
   "id": "0fc2a7c2-e444-4e00-91c1-b1b39bd9d527",
   "metadata": {},
   "outputs": [
    {
     "name": "stdout",
     "output_type": "stream",
     "text": [
      "Movies similar to 'Bedtime Stories (2008)':\n",
      "Beverly Hills Chihuahua (2008) (Similarity Score: 0.62)\n",
      "Bolt (2008) (Similarity Score: 0.62)\n",
      "Horton Hears a Who! (2008) (Similarity Score: 0.58)\n",
      "Paulie (1998) (Similarity Score: 0.55)\n",
      "Candleshoe (1977) (Similarity Score: 0.55)\n"
     ]
    }
   ],
   "source": [
    "# Get recommendation of a movie\n",
    "movie_of_interest = \"Bedtime Stories (2008)\"\n",
    "recommendations = get_movie_recommendations(movie_of_interest)\n",
    "\n",
    "print(f\"Movies similar to '{movie_of_interest}':\")\n",
    "for movie, score in recommendations:\n",
    "    print(f\"{movie} (Similarity Score: {score:.2f})\")"
   ]
  },
  {
   "cell_type": "code",
   "execution_count": 7,
   "id": "d5769e6a-416b-4b51-be4f-b503bbfe0cb2",
   "metadata": {},
   "outputs": [],
   "source": [
    "# Saving the similarity scores as a pickel object\n",
    "with open('similarity_matrix.pkl', 'wb') as file:\n",
    "        pickle.dump(similarity, file)"
   ]
  },
  {
   "cell_type": "code",
   "execution_count": 8,
   "id": "195b95e7-60ab-4904-88e4-dc093ed3bec0",
   "metadata": {},
   "outputs": [
    {
     "name": "stdout",
     "output_type": "stream",
     "text": [
      "Size of the similarity matrix: 870.39 MB\n"
     ]
    }
   ],
   "source": [
    "# Calulating the size of similarity matrix\n",
    "matrix_size_in_bytes = similarity.nbytes\n",
    "print(f\"Size of the similarity matrix: {matrix_size_in_bytes / (1024 ** 2):.2f} MB\")"
   ]
  }
 ],
 "metadata": {
  "kernelspec": {
   "display_name": "Python 3 (ipykernel)",
   "language": "python",
   "name": "python3"
  },
  "language_info": {
   "codemirror_mode": {
    "name": "ipython",
    "version": 3
   },
   "file_extension": ".py",
   "mimetype": "text/x-python",
   "name": "python",
   "nbconvert_exporter": "python",
   "pygments_lexer": "ipython3",
   "version": "3.11.5"
  }
 },
 "nbformat": 4,
 "nbformat_minor": 5
}
